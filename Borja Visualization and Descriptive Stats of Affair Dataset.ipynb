{
 "cells": [
  {
   "cell_type": "markdown",
   "id": "02716ac2",
   "metadata": {},
   "source": [
    "# Affair Dataset "
   ]
  },
  {
   "cell_type": "markdown",
   "id": "1c699fc6",
   "metadata": {},
   "source": [
    "Use an inbuilt dataset, preferably the one you used for the first assignment ({{Python] Loading Data). Build on the work done so far by adding at least one hypothesis test and a regression model on the dataset. Do ensure you provide the context of the analysis and also the interpretation of the analysis results."
   ]
  },
  {
   "cell_type": "code",
   "execution_count": 1,
   "id": "044c4871",
   "metadata": {},
   "outputs": [],
   "source": [
    "import numpy as np\n",
    "import pandas as pd\n",
    "import matplotlib.pyplot as plt\n",
    "%matplotlib inline\n",
    "import scipy.stats as stats\n",
    "import random\n",
    "import math"
   ]
  },
  {
   "cell_type": "code",
   "execution_count": 2,
   "id": "09bdffa8",
   "metadata": {},
   "outputs": [
    {
     "name": "stdout",
     "output_type": "stream",
     "text": [
      "Extramarital affair data used to explain the allocation\n",
      "of an individual's time among work, time spent with a spouse, and time\n",
      "spent with a paramour. The data is used as an example of regression\n",
      "with censored data.\n"
     ]
    }
   ],
   "source": [
    "import statsmodels.api as sm\n",
    "fair = sm.datasets.fair\n",
    "\n",
    "print(fair.DESCRLONG)"
   ]
  },
  {
   "cell_type": "code",
   "execution_count": 3,
   "id": "ec4eddfd",
   "metadata": {},
   "outputs": [
    {
     "name": "stdout",
     "output_type": "stream",
     "text": [
      "::\n",
      "\n",
      "    Number of observations: 6366\n",
      "    Number of variables: 9\n",
      "    Variable name definitions:\n",
      "\n",
      "        rate_marriage   : How rate marriage, 1 = very poor, 2 = poor, 3 = fair,\n",
      "                        4 = good, 5 = very good\n",
      "        age             : Age\n",
      "        yrs_married     : No. years married. Interval approximations. See\n",
      "                        original paper for detailed explanation.\n",
      "        children        : No. children\n",
      "        religious       : How relgious, 1 = not, 2 = mildly, 3 = fairly,\n",
      "                        4 = strongly\n",
      "        educ            : Level of education, 9 = grade school, 12 = high\n",
      "                        school, 14 = some college, 16 = college graduate,\n",
      "                        17 = some graduate school, 20 = advanced degree\n",
      "        occupation      : 1 = student, 2 = farming, agriculture; semi-skilled,\n",
      "                        or unskilled worker; 3 = white-colloar; 4 = teacher\n",
      "                        counselor social worker, nurse; artist, writers;\n",
      "                        technician, skilled worker, 5 = managerial,\n",
      "                        administrative, business, 6 = professional with\n",
      "                        advanced degree\n",
      "        occupation_husb : Husband's occupation. Same as occupation.\n",
      "        affairs         : measure of time spent in extramarital affairs\n",
      "\n",
      "    See the original paper for more details.\n",
      "\n"
     ]
    }
   ],
   "source": [
    "print(fair.NOTE)"
   ]
  },
  {
   "cell_type": "code",
   "execution_count": 7,
   "id": "43437573",
   "metadata": {},
   "outputs": [],
   "source": [
    "dataset_fair = fair.load_pandas()"
   ]
  },
  {
   "cell_type": "code",
   "execution_count": 8,
   "id": "29bb3e69",
   "metadata": {},
   "outputs": [
    {
     "data": {
      "text/html": [
       "<div>\n",
       "<style scoped>\n",
       "    .dataframe tbody tr th:only-of-type {\n",
       "        vertical-align: middle;\n",
       "    }\n",
       "\n",
       "    .dataframe tbody tr th {\n",
       "        vertical-align: top;\n",
       "    }\n",
       "\n",
       "    .dataframe thead th {\n",
       "        text-align: right;\n",
       "    }\n",
       "</style>\n",
       "<table border=\"1\" class=\"dataframe\">\n",
       "  <thead>\n",
       "    <tr style=\"text-align: right;\">\n",
       "      <th></th>\n",
       "      <th>rate_marriage</th>\n",
       "      <th>age</th>\n",
       "      <th>yrs_married</th>\n",
       "      <th>children</th>\n",
       "      <th>religious</th>\n",
       "      <th>educ</th>\n",
       "      <th>occupation</th>\n",
       "      <th>occupation_husb</th>\n",
       "      <th>affairs</th>\n",
       "    </tr>\n",
       "  </thead>\n",
       "  <tbody>\n",
       "    <tr>\n",
       "      <th>0</th>\n",
       "      <td>3.0</td>\n",
       "      <td>32.0</td>\n",
       "      <td>9.0</td>\n",
       "      <td>3.0</td>\n",
       "      <td>3.0</td>\n",
       "      <td>17.0</td>\n",
       "      <td>2.0</td>\n",
       "      <td>5.0</td>\n",
       "      <td>0.111111</td>\n",
       "    </tr>\n",
       "    <tr>\n",
       "      <th>1</th>\n",
       "      <td>3.0</td>\n",
       "      <td>27.0</td>\n",
       "      <td>13.0</td>\n",
       "      <td>3.0</td>\n",
       "      <td>1.0</td>\n",
       "      <td>14.0</td>\n",
       "      <td>3.0</td>\n",
       "      <td>4.0</td>\n",
       "      <td>3.230769</td>\n",
       "    </tr>\n",
       "    <tr>\n",
       "      <th>2</th>\n",
       "      <td>4.0</td>\n",
       "      <td>22.0</td>\n",
       "      <td>2.5</td>\n",
       "      <td>0.0</td>\n",
       "      <td>1.0</td>\n",
       "      <td>16.0</td>\n",
       "      <td>3.0</td>\n",
       "      <td>5.0</td>\n",
       "      <td>1.400000</td>\n",
       "    </tr>\n",
       "    <tr>\n",
       "      <th>3</th>\n",
       "      <td>4.0</td>\n",
       "      <td>37.0</td>\n",
       "      <td>16.5</td>\n",
       "      <td>4.0</td>\n",
       "      <td>3.0</td>\n",
       "      <td>16.0</td>\n",
       "      <td>5.0</td>\n",
       "      <td>5.0</td>\n",
       "      <td>0.727273</td>\n",
       "    </tr>\n",
       "    <tr>\n",
       "      <th>4</th>\n",
       "      <td>5.0</td>\n",
       "      <td>27.0</td>\n",
       "      <td>9.0</td>\n",
       "      <td>1.0</td>\n",
       "      <td>1.0</td>\n",
       "      <td>14.0</td>\n",
       "      <td>3.0</td>\n",
       "      <td>4.0</td>\n",
       "      <td>4.666666</td>\n",
       "    </tr>\n",
       "  </tbody>\n",
       "</table>\n",
       "</div>"
      ],
      "text/plain": [
       "   rate_marriage   age  yrs_married  children  religious  educ  occupation  \\\n",
       "0            3.0  32.0          9.0       3.0        3.0  17.0         2.0   \n",
       "1            3.0  27.0         13.0       3.0        1.0  14.0         3.0   \n",
       "2            4.0  22.0          2.5       0.0        1.0  16.0         3.0   \n",
       "3            4.0  37.0         16.5       4.0        3.0  16.0         5.0   \n",
       "4            5.0  27.0          9.0       1.0        1.0  14.0         3.0   \n",
       "\n",
       "   occupation_husb   affairs  \n",
       "0              5.0  0.111111  \n",
       "1              4.0  3.230769  \n",
       "2              5.0  1.400000  \n",
       "3              5.0  0.727273  \n",
       "4              4.0  4.666666  "
      ]
     },
     "execution_count": 8,
     "metadata": {},
     "output_type": "execute_result"
    }
   ],
   "source": [
    "df_fair = dataset_fair.data\n",
    "df_fair.head()"
   ]
  },
  {
   "cell_type": "code",
   "execution_count": 9,
   "id": "da1ef3e6",
   "metadata": {},
   "outputs": [
    {
     "data": {
      "text/html": [
       "<div>\n",
       "<style scoped>\n",
       "    .dataframe tbody tr th:only-of-type {\n",
       "        vertical-align: middle;\n",
       "    }\n",
       "\n",
       "    .dataframe tbody tr th {\n",
       "        vertical-align: top;\n",
       "    }\n",
       "\n",
       "    .dataframe thead th {\n",
       "        text-align: right;\n",
       "    }\n",
       "</style>\n",
       "<table border=\"1\" class=\"dataframe\">\n",
       "  <thead>\n",
       "    <tr style=\"text-align: right;\">\n",
       "      <th></th>\n",
       "      <th>rate_marriage</th>\n",
       "      <th>age</th>\n",
       "      <th>yrs_married</th>\n",
       "      <th>children</th>\n",
       "      <th>religious</th>\n",
       "      <th>educ</th>\n",
       "      <th>occupation</th>\n",
       "      <th>occupation_husb</th>\n",
       "      <th>affairs</th>\n",
       "    </tr>\n",
       "  </thead>\n",
       "  <tbody>\n",
       "    <tr>\n",
       "      <th>6361</th>\n",
       "      <td>5.0</td>\n",
       "      <td>32.0</td>\n",
       "      <td>13.0</td>\n",
       "      <td>2.0</td>\n",
       "      <td>3.0</td>\n",
       "      <td>17.0</td>\n",
       "      <td>4.0</td>\n",
       "      <td>3.0</td>\n",
       "      <td>0.0</td>\n",
       "    </tr>\n",
       "    <tr>\n",
       "      <th>6362</th>\n",
       "      <td>4.0</td>\n",
       "      <td>32.0</td>\n",
       "      <td>13.0</td>\n",
       "      <td>1.0</td>\n",
       "      <td>1.0</td>\n",
       "      <td>16.0</td>\n",
       "      <td>5.0</td>\n",
       "      <td>5.0</td>\n",
       "      <td>0.0</td>\n",
       "    </tr>\n",
       "    <tr>\n",
       "      <th>6363</th>\n",
       "      <td>5.0</td>\n",
       "      <td>22.0</td>\n",
       "      <td>2.5</td>\n",
       "      <td>0.0</td>\n",
       "      <td>2.0</td>\n",
       "      <td>14.0</td>\n",
       "      <td>3.0</td>\n",
       "      <td>1.0</td>\n",
       "      <td>0.0</td>\n",
       "    </tr>\n",
       "    <tr>\n",
       "      <th>6364</th>\n",
       "      <td>5.0</td>\n",
       "      <td>32.0</td>\n",
       "      <td>6.0</td>\n",
       "      <td>1.0</td>\n",
       "      <td>3.0</td>\n",
       "      <td>14.0</td>\n",
       "      <td>3.0</td>\n",
       "      <td>4.0</td>\n",
       "      <td>0.0</td>\n",
       "    </tr>\n",
       "    <tr>\n",
       "      <th>6365</th>\n",
       "      <td>4.0</td>\n",
       "      <td>22.0</td>\n",
       "      <td>2.5</td>\n",
       "      <td>0.0</td>\n",
       "      <td>2.0</td>\n",
       "      <td>16.0</td>\n",
       "      <td>2.0</td>\n",
       "      <td>4.0</td>\n",
       "      <td>0.0</td>\n",
       "    </tr>\n",
       "  </tbody>\n",
       "</table>\n",
       "</div>"
      ],
      "text/plain": [
       "      rate_marriage   age  yrs_married  children  religious  educ  occupation  \\\n",
       "6361            5.0  32.0         13.0       2.0        3.0  17.0         4.0   \n",
       "6362            4.0  32.0         13.0       1.0        1.0  16.0         5.0   \n",
       "6363            5.0  22.0          2.5       0.0        2.0  14.0         3.0   \n",
       "6364            5.0  32.0          6.0       1.0        3.0  14.0         3.0   \n",
       "6365            4.0  22.0          2.5       0.0        2.0  16.0         2.0   \n",
       "\n",
       "      occupation_husb  affairs  \n",
       "6361              3.0      0.0  \n",
       "6362              5.0      0.0  \n",
       "6363              1.0      0.0  \n",
       "6364              4.0      0.0  \n",
       "6365              4.0      0.0  "
      ]
     },
     "execution_count": 9,
     "metadata": {},
     "output_type": "execute_result"
    }
   ],
   "source": [
    "df_fair.tail()"
   ]
  },
  {
   "cell_type": "code",
   "execution_count": 10,
   "id": "34dcac03",
   "metadata": {},
   "outputs": [
    {
     "data": {
      "text/plain": [
       "(6366, 9)"
      ]
     },
     "execution_count": 10,
     "metadata": {},
     "output_type": "execute_result"
    }
   ],
   "source": [
    "df_fair.shape"
   ]
  },
  {
   "cell_type": "code",
   "execution_count": 11,
   "id": "031be202",
   "metadata": {},
   "outputs": [
    {
     "data": {
      "text/plain": [
       "rate_marriage      0\n",
       "age                0\n",
       "yrs_married        0\n",
       "children           0\n",
       "religious          0\n",
       "educ               0\n",
       "occupation         0\n",
       "occupation_husb    0\n",
       "affairs            0\n",
       "dtype: int64"
      ]
     },
     "execution_count": 11,
     "metadata": {},
     "output_type": "execute_result"
    }
   ],
   "source": [
    "df_fair.isnull().sum()"
   ]
  },
  {
   "cell_type": "code",
   "execution_count": 12,
   "id": "2c6171f9",
   "metadata": {},
   "outputs": [
    {
     "data": {
      "text/html": [
       "<div>\n",
       "<style scoped>\n",
       "    .dataframe tbody tr th:only-of-type {\n",
       "        vertical-align: middle;\n",
       "    }\n",
       "\n",
       "    .dataframe tbody tr th {\n",
       "        vertical-align: top;\n",
       "    }\n",
       "\n",
       "    .dataframe thead th {\n",
       "        text-align: right;\n",
       "    }\n",
       "</style>\n",
       "<table border=\"1\" class=\"dataframe\">\n",
       "  <thead>\n",
       "    <tr style=\"text-align: right;\">\n",
       "      <th></th>\n",
       "      <th>rate_marriage</th>\n",
       "      <th>age</th>\n",
       "      <th>yrs_married</th>\n",
       "      <th>children</th>\n",
       "      <th>religious</th>\n",
       "      <th>educ</th>\n",
       "      <th>occupation</th>\n",
       "      <th>occupation_husb</th>\n",
       "      <th>affairs</th>\n",
       "    </tr>\n",
       "  </thead>\n",
       "  <tbody>\n",
       "    <tr>\n",
       "      <th>175</th>\n",
       "      <td>3.0</td>\n",
       "      <td>27.0</td>\n",
       "      <td>9.0</td>\n",
       "      <td>2.0</td>\n",
       "      <td>2.0</td>\n",
       "      <td>12.0</td>\n",
       "      <td>5.0</td>\n",
       "      <td>2.0</td>\n",
       "      <td>1.333333</td>\n",
       "    </tr>\n",
       "    <tr>\n",
       "      <th>472</th>\n",
       "      <td>4.0</td>\n",
       "      <td>27.0</td>\n",
       "      <td>9.0</td>\n",
       "      <td>2.0</td>\n",
       "      <td>3.0</td>\n",
       "      <td>12.0</td>\n",
       "      <td>2.0</td>\n",
       "      <td>2.0</td>\n",
       "      <td>0.388889</td>\n",
       "    </tr>\n",
       "    <tr>\n",
       "      <th>569</th>\n",
       "      <td>2.0</td>\n",
       "      <td>27.0</td>\n",
       "      <td>6.0</td>\n",
       "      <td>1.0</td>\n",
       "      <td>2.0</td>\n",
       "      <td>12.0</td>\n",
       "      <td>3.0</td>\n",
       "      <td>2.0</td>\n",
       "      <td>0.583333</td>\n",
       "    </tr>\n",
       "    <tr>\n",
       "      <th>692</th>\n",
       "      <td>3.0</td>\n",
       "      <td>22.0</td>\n",
       "      <td>2.5</td>\n",
       "      <td>1.0</td>\n",
       "      <td>3.0</td>\n",
       "      <td>12.0</td>\n",
       "      <td>3.0</td>\n",
       "      <td>2.0</td>\n",
       "      <td>3.200000</td>\n",
       "    </tr>\n",
       "    <tr>\n",
       "      <th>804</th>\n",
       "      <td>4.0</td>\n",
       "      <td>22.0</td>\n",
       "      <td>2.5</td>\n",
       "      <td>0.0</td>\n",
       "      <td>2.0</td>\n",
       "      <td>12.0</td>\n",
       "      <td>3.0</td>\n",
       "      <td>4.0</td>\n",
       "      <td>4.900000</td>\n",
       "    </tr>\n",
       "    <tr>\n",
       "      <th>...</th>\n",
       "      <td>...</td>\n",
       "      <td>...</td>\n",
       "      <td>...</td>\n",
       "      <td>...</td>\n",
       "      <td>...</td>\n",
       "      <td>...</td>\n",
       "      <td>...</td>\n",
       "      <td>...</td>\n",
       "      <td>...</td>\n",
       "    </tr>\n",
       "    <tr>\n",
       "      <th>6354</th>\n",
       "      <td>5.0</td>\n",
       "      <td>42.0</td>\n",
       "      <td>23.0</td>\n",
       "      <td>4.0</td>\n",
       "      <td>4.0</td>\n",
       "      <td>12.0</td>\n",
       "      <td>3.0</td>\n",
       "      <td>5.0</td>\n",
       "      <td>0.000000</td>\n",
       "    </tr>\n",
       "    <tr>\n",
       "      <th>6355</th>\n",
       "      <td>4.0</td>\n",
       "      <td>27.0</td>\n",
       "      <td>6.0</td>\n",
       "      <td>0.0</td>\n",
       "      <td>3.0</td>\n",
       "      <td>12.0</td>\n",
       "      <td>3.0</td>\n",
       "      <td>4.0</td>\n",
       "      <td>0.000000</td>\n",
       "    </tr>\n",
       "    <tr>\n",
       "      <th>6359</th>\n",
       "      <td>4.0</td>\n",
       "      <td>22.0</td>\n",
       "      <td>2.5</td>\n",
       "      <td>0.0</td>\n",
       "      <td>3.0</td>\n",
       "      <td>16.0</td>\n",
       "      <td>5.0</td>\n",
       "      <td>5.0</td>\n",
       "      <td>0.000000</td>\n",
       "    </tr>\n",
       "    <tr>\n",
       "      <th>6360</th>\n",
       "      <td>5.0</td>\n",
       "      <td>22.0</td>\n",
       "      <td>2.5</td>\n",
       "      <td>0.0</td>\n",
       "      <td>2.0</td>\n",
       "      <td>14.0</td>\n",
       "      <td>3.0</td>\n",
       "      <td>3.0</td>\n",
       "      <td>0.000000</td>\n",
       "    </tr>\n",
       "    <tr>\n",
       "      <th>6363</th>\n",
       "      <td>5.0</td>\n",
       "      <td>22.0</td>\n",
       "      <td>2.5</td>\n",
       "      <td>0.0</td>\n",
       "      <td>2.0</td>\n",
       "      <td>14.0</td>\n",
       "      <td>3.0</td>\n",
       "      <td>1.0</td>\n",
       "      <td>0.000000</td>\n",
       "    </tr>\n",
       "  </tbody>\n",
       "</table>\n",
       "<p>1039 rows × 9 columns</p>\n",
       "</div>"
      ],
      "text/plain": [
       "      rate_marriage   age  yrs_married  children  religious  educ  occupation  \\\n",
       "175             3.0  27.0          9.0       2.0        2.0  12.0         5.0   \n",
       "472             4.0  27.0          9.0       2.0        3.0  12.0         2.0   \n",
       "569             2.0  27.0          6.0       1.0        2.0  12.0         3.0   \n",
       "692             3.0  22.0          2.5       1.0        3.0  12.0         3.0   \n",
       "804             4.0  22.0          2.5       0.0        2.0  12.0         3.0   \n",
       "...             ...   ...          ...       ...        ...   ...         ...   \n",
       "6354            5.0  42.0         23.0       4.0        4.0  12.0         3.0   \n",
       "6355            4.0  27.0          6.0       0.0        3.0  12.0         3.0   \n",
       "6359            4.0  22.0          2.5       0.0        3.0  16.0         5.0   \n",
       "6360            5.0  22.0          2.5       0.0        2.0  14.0         3.0   \n",
       "6363            5.0  22.0          2.5       0.0        2.0  14.0         3.0   \n",
       "\n",
       "      occupation_husb   affairs  \n",
       "175               2.0  1.333333  \n",
       "472               2.0  0.388889  \n",
       "569               2.0  0.583333  \n",
       "692               2.0  3.200000  \n",
       "804               4.0  4.900000  \n",
       "...               ...       ...  \n",
       "6354              5.0  0.000000  \n",
       "6355              4.0  0.000000  \n",
       "6359              5.0  0.000000  \n",
       "6360              3.0  0.000000  \n",
       "6363              1.0  0.000000  \n",
       "\n",
       "[1039 rows x 9 columns]"
      ]
     },
     "execution_count": 12,
     "metadata": {},
     "output_type": "execute_result"
    }
   ],
   "source": [
    "df_fair[df_fair.duplicated()]"
   ]
  },
  {
   "cell_type": "code",
   "execution_count": 13,
   "id": "f0ada835",
   "metadata": {},
   "outputs": [
    {
     "data": {
      "text/html": [
       "<div>\n",
       "<style scoped>\n",
       "    .dataframe tbody tr th:only-of-type {\n",
       "        vertical-align: middle;\n",
       "    }\n",
       "\n",
       "    .dataframe tbody tr th {\n",
       "        vertical-align: top;\n",
       "    }\n",
       "\n",
       "    .dataframe thead th {\n",
       "        text-align: right;\n",
       "    }\n",
       "</style>\n",
       "<table border=\"1\" class=\"dataframe\">\n",
       "  <thead>\n",
       "    <tr style=\"text-align: right;\">\n",
       "      <th></th>\n",
       "      <th>rate_marriage</th>\n",
       "      <th>age</th>\n",
       "      <th>yrs_married</th>\n",
       "      <th>children</th>\n",
       "      <th>religious</th>\n",
       "      <th>educ</th>\n",
       "      <th>occupation</th>\n",
       "      <th>occupation_husb</th>\n",
       "      <th>affairs</th>\n",
       "    </tr>\n",
       "  </thead>\n",
       "  <tbody>\n",
       "    <tr>\n",
       "      <th>count</th>\n",
       "      <td>6366.000000</td>\n",
       "      <td>6366.000000</td>\n",
       "      <td>6366.000000</td>\n",
       "      <td>6366.000000</td>\n",
       "      <td>6366.000000</td>\n",
       "      <td>6366.000000</td>\n",
       "      <td>6366.000000</td>\n",
       "      <td>6366.000000</td>\n",
       "      <td>6366.000000</td>\n",
       "    </tr>\n",
       "    <tr>\n",
       "      <th>mean</th>\n",
       "      <td>4.109645</td>\n",
       "      <td>29.082862</td>\n",
       "      <td>9.009425</td>\n",
       "      <td>1.396874</td>\n",
       "      <td>2.426170</td>\n",
       "      <td>14.209865</td>\n",
       "      <td>3.424128</td>\n",
       "      <td>3.850141</td>\n",
       "      <td>0.705374</td>\n",
       "    </tr>\n",
       "    <tr>\n",
       "      <th>std</th>\n",
       "      <td>0.961430</td>\n",
       "      <td>6.847882</td>\n",
       "      <td>7.280120</td>\n",
       "      <td>1.433471</td>\n",
       "      <td>0.878369</td>\n",
       "      <td>2.178003</td>\n",
       "      <td>0.942399</td>\n",
       "      <td>1.346435</td>\n",
       "      <td>2.203374</td>\n",
       "    </tr>\n",
       "    <tr>\n",
       "      <th>min</th>\n",
       "      <td>1.000000</td>\n",
       "      <td>17.500000</td>\n",
       "      <td>0.500000</td>\n",
       "      <td>0.000000</td>\n",
       "      <td>1.000000</td>\n",
       "      <td>9.000000</td>\n",
       "      <td>1.000000</td>\n",
       "      <td>1.000000</td>\n",
       "      <td>0.000000</td>\n",
       "    </tr>\n",
       "    <tr>\n",
       "      <th>25%</th>\n",
       "      <td>4.000000</td>\n",
       "      <td>22.000000</td>\n",
       "      <td>2.500000</td>\n",
       "      <td>0.000000</td>\n",
       "      <td>2.000000</td>\n",
       "      <td>12.000000</td>\n",
       "      <td>3.000000</td>\n",
       "      <td>3.000000</td>\n",
       "      <td>0.000000</td>\n",
       "    </tr>\n",
       "    <tr>\n",
       "      <th>50%</th>\n",
       "      <td>4.000000</td>\n",
       "      <td>27.000000</td>\n",
       "      <td>6.000000</td>\n",
       "      <td>1.000000</td>\n",
       "      <td>2.000000</td>\n",
       "      <td>14.000000</td>\n",
       "      <td>3.000000</td>\n",
       "      <td>4.000000</td>\n",
       "      <td>0.000000</td>\n",
       "    </tr>\n",
       "    <tr>\n",
       "      <th>75%</th>\n",
       "      <td>5.000000</td>\n",
       "      <td>32.000000</td>\n",
       "      <td>16.500000</td>\n",
       "      <td>2.000000</td>\n",
       "      <td>3.000000</td>\n",
       "      <td>16.000000</td>\n",
       "      <td>4.000000</td>\n",
       "      <td>5.000000</td>\n",
       "      <td>0.484848</td>\n",
       "    </tr>\n",
       "    <tr>\n",
       "      <th>max</th>\n",
       "      <td>5.000000</td>\n",
       "      <td>42.000000</td>\n",
       "      <td>23.000000</td>\n",
       "      <td>5.500000</td>\n",
       "      <td>4.000000</td>\n",
       "      <td>20.000000</td>\n",
       "      <td>6.000000</td>\n",
       "      <td>6.000000</td>\n",
       "      <td>57.599991</td>\n",
       "    </tr>\n",
       "  </tbody>\n",
       "</table>\n",
       "</div>"
      ],
      "text/plain": [
       "       rate_marriage          age  yrs_married     children    religious  \\\n",
       "count    6366.000000  6366.000000  6366.000000  6366.000000  6366.000000   \n",
       "mean        4.109645    29.082862     9.009425     1.396874     2.426170   \n",
       "std         0.961430     6.847882     7.280120     1.433471     0.878369   \n",
       "min         1.000000    17.500000     0.500000     0.000000     1.000000   \n",
       "25%         4.000000    22.000000     2.500000     0.000000     2.000000   \n",
       "50%         4.000000    27.000000     6.000000     1.000000     2.000000   \n",
       "75%         5.000000    32.000000    16.500000     2.000000     3.000000   \n",
       "max         5.000000    42.000000    23.000000     5.500000     4.000000   \n",
       "\n",
       "              educ   occupation  occupation_husb      affairs  \n",
       "count  6366.000000  6366.000000      6366.000000  6366.000000  \n",
       "mean     14.209865     3.424128         3.850141     0.705374  \n",
       "std       2.178003     0.942399         1.346435     2.203374  \n",
       "min       9.000000     1.000000         1.000000     0.000000  \n",
       "25%      12.000000     3.000000         3.000000     0.000000  \n",
       "50%      14.000000     3.000000         4.000000     0.000000  \n",
       "75%      16.000000     4.000000         5.000000     0.484848  \n",
       "max      20.000000     6.000000         6.000000    57.599991  "
      ]
     },
     "execution_count": 13,
     "metadata": {},
     "output_type": "execute_result"
    }
   ],
   "source": [
    "df_fair.describe()"
   ]
  },
  {
   "cell_type": "markdown",
   "id": "cd15ca2a",
   "metadata": {},
   "source": [
    "# Point Estimate"
   ]
  },
  {
   "cell_type": "code",
   "execution_count": 14,
   "id": "2e04f29c",
   "metadata": {},
   "outputs": [
    {
     "data": {
      "text/plain": [
       "4490.4101715"
      ]
     },
     "execution_count": 14,
     "metadata": {},
     "output_type": "execute_result"
    }
   ],
   "source": [
    "df_fair[\"affairs\"].sum()"
   ]
  },
  {
   "cell_type": "code",
   "execution_count": 15,
   "id": "c3cdbeb9",
   "metadata": {},
   "outputs": [
    {
     "data": {
      "text/plain": [
       "0.7053738880772903"
      ]
     },
     "execution_count": 15,
     "metadata": {},
     "output_type": "execute_result"
    }
   ],
   "source": [
    "df_fair[\"affairs\"].mean()"
   ]
  },
  {
   "cell_type": "code",
   "execution_count": 16,
   "id": "93e2b154",
   "metadata": {},
   "outputs": [
    {
     "data": {
      "text/plain": [
       "0.0"
      ]
     },
     "execution_count": 16,
     "metadata": {},
     "output_type": "execute_result"
    }
   ],
   "source": [
    "df_fair[\"affairs\"].median()"
   ]
  },
  {
   "cell_type": "markdown",
   "id": "3aba2abe",
   "metadata": {},
   "source": [
    "# Confidence Interval\n"
   ]
  },
  {
   "cell_type": "code",
   "execution_count": 17,
   "id": "8730646e",
   "metadata": {},
   "outputs": [
    {
     "name": "stdout",
     "output_type": "stream",
     "text": [
      "z critical value: 1.959963984540054\n",
      "Confidence interval: (0.6906249594502639, 0.7179377614777361)\n"
     ]
    }
   ],
   "source": [
    "sample_size = 100000\n",
    "sample = np.random.choice(a = df_fair[\"affairs\"], size = sample_size)\n",
    "sample_mean = sample.mean()\n",
    "\n",
    "z_critical = stats.norm.ppf(q = 0.975)\n",
    "print(\"z critical value: \"+ str(z_critical))\n",
    "\n",
    "pop_stdev = df_fair[\"affairs\"].std()\n",
    "\n",
    "margin_of_error = z_critical * pop_stdev/math.sqrt(sample_size)\n",
    "\n",
    "confidence_interval = (sample_mean - margin_of_error , sample_mean + margin_of_error)\n",
    "print(\"Confidence interval: \"+ str(confidence_interval))"
   ]
  },
  {
   "cell_type": "markdown",
   "id": "431d6451",
   "metadata": {},
   "source": [
    "# Hypothesis Test"
   ]
  },
  {
   "cell_type": "markdown",
   "id": "089b63c8",
   "metadata": {},
   "source": [
    "## Chi-Square Test of Independence\n",
    "\n",
    "\n",
    "\n"
   ]
  },
  {
   "cell_type": "code",
   "execution_count": 18,
   "id": "6cc8a6b8",
   "metadata": {},
   "outputs": [
    {
     "data": {
      "text/html": [
       "<div>\n",
       "<style scoped>\n",
       "    .dataframe tbody tr th:only-of-type {\n",
       "        vertical-align: middle;\n",
       "    }\n",
       "\n",
       "    .dataframe tbody tr th {\n",
       "        vertical-align: top;\n",
       "    }\n",
       "\n",
       "    .dataframe thead th {\n",
       "        text-align: right;\n",
       "    }\n",
       "</style>\n",
       "<table border=\"1\" class=\"dataframe\">\n",
       "  <thead>\n",
       "    <tr style=\"text-align: right;\">\n",
       "      <th>affairs</th>\n",
       "      <th>0.0</th>\n",
       "      <th>0.0434783</th>\n",
       "      <th>0.0606061</th>\n",
       "      <th>0.0769231</th>\n",
       "      <th>0.1111111</th>\n",
       "      <th>0.1521739</th>\n",
       "      <th>0.1666666</th>\n",
       "      <th>0.2121212</th>\n",
       "      <th>0.2434782</th>\n",
       "      <th>0.2692307</th>\n",
       "      <th>...</th>\n",
       "      <th>16.7999878</th>\n",
       "      <th>17.9199982</th>\n",
       "      <th>24.0</th>\n",
       "      <th>24.5</th>\n",
       "      <th>25.5999908</th>\n",
       "      <th>26.8799896</th>\n",
       "      <th>38.3999939</th>\n",
       "      <th>39.1999817</th>\n",
       "      <th>57.5999908</th>\n",
       "      <th>All</th>\n",
       "    </tr>\n",
       "    <tr>\n",
       "      <th>educ</th>\n",
       "      <th></th>\n",
       "      <th></th>\n",
       "      <th></th>\n",
       "      <th></th>\n",
       "      <th></th>\n",
       "      <th></th>\n",
       "      <th></th>\n",
       "      <th></th>\n",
       "      <th></th>\n",
       "      <th></th>\n",
       "      <th></th>\n",
       "      <th></th>\n",
       "      <th></th>\n",
       "      <th></th>\n",
       "      <th></th>\n",
       "      <th></th>\n",
       "      <th></th>\n",
       "      <th></th>\n",
       "      <th></th>\n",
       "      <th></th>\n",
       "      <th></th>\n",
       "    </tr>\n",
       "  </thead>\n",
       "  <tbody>\n",
       "    <tr>\n",
       "      <th>9.0</th>\n",
       "      <td>27</td>\n",
       "      <td>0</td>\n",
       "      <td>1</td>\n",
       "      <td>1</td>\n",
       "      <td>0</td>\n",
       "      <td>1</td>\n",
       "      <td>1</td>\n",
       "      <td>1</td>\n",
       "      <td>0</td>\n",
       "      <td>1</td>\n",
       "      <td>...</td>\n",
       "      <td>0</td>\n",
       "      <td>0</td>\n",
       "      <td>0</td>\n",
       "      <td>0</td>\n",
       "      <td>0</td>\n",
       "      <td>0</td>\n",
       "      <td>0</td>\n",
       "      <td>0</td>\n",
       "      <td>0</td>\n",
       "      <td>48</td>\n",
       "    </tr>\n",
       "    <tr>\n",
       "      <th>12.0</th>\n",
       "      <td>1361</td>\n",
       "      <td>7</td>\n",
       "      <td>6</td>\n",
       "      <td>11</td>\n",
       "      <td>3</td>\n",
       "      <td>27</td>\n",
       "      <td>23</td>\n",
       "      <td>24</td>\n",
       "      <td>0</td>\n",
       "      <td>16</td>\n",
       "      <td>...</td>\n",
       "      <td>2</td>\n",
       "      <td>1</td>\n",
       "      <td>1</td>\n",
       "      <td>0</td>\n",
       "      <td>1</td>\n",
       "      <td>2</td>\n",
       "      <td>0</td>\n",
       "      <td>0</td>\n",
       "      <td>0</td>\n",
       "      <td>2084</td>\n",
       "    </tr>\n",
       "    <tr>\n",
       "      <th>14.0</th>\n",
       "      <td>1469</td>\n",
       "      <td>8</td>\n",
       "      <td>10</td>\n",
       "      <td>7</td>\n",
       "      <td>13</td>\n",
       "      <td>16</td>\n",
       "      <td>15</td>\n",
       "      <td>26</td>\n",
       "      <td>0</td>\n",
       "      <td>19</td>\n",
       "      <td>...</td>\n",
       "      <td>5</td>\n",
       "      <td>3</td>\n",
       "      <td>1</td>\n",
       "      <td>1</td>\n",
       "      <td>1</td>\n",
       "      <td>0</td>\n",
       "      <td>1</td>\n",
       "      <td>1</td>\n",
       "      <td>1</td>\n",
       "      <td>2277</td>\n",
       "    </tr>\n",
       "    <tr>\n",
       "      <th>16.0</th>\n",
       "      <td>844</td>\n",
       "      <td>2</td>\n",
       "      <td>4</td>\n",
       "      <td>1</td>\n",
       "      <td>7</td>\n",
       "      <td>5</td>\n",
       "      <td>6</td>\n",
       "      <td>9</td>\n",
       "      <td>1</td>\n",
       "      <td>6</td>\n",
       "      <td>...</td>\n",
       "      <td>1</td>\n",
       "      <td>3</td>\n",
       "      <td>0</td>\n",
       "      <td>1</td>\n",
       "      <td>0</td>\n",
       "      <td>0</td>\n",
       "      <td>0</td>\n",
       "      <td>0</td>\n",
       "      <td>0</td>\n",
       "      <td>1117</td>\n",
       "    </tr>\n",
       "    <tr>\n",
       "      <th>17.0</th>\n",
       "      <td>370</td>\n",
       "      <td>3</td>\n",
       "      <td>1</td>\n",
       "      <td>2</td>\n",
       "      <td>3</td>\n",
       "      <td>3</td>\n",
       "      <td>4</td>\n",
       "      <td>4</td>\n",
       "      <td>0</td>\n",
       "      <td>3</td>\n",
       "      <td>...</td>\n",
       "      <td>3</td>\n",
       "      <td>1</td>\n",
       "      <td>0</td>\n",
       "      <td>0</td>\n",
       "      <td>0</td>\n",
       "      <td>1</td>\n",
       "      <td>0</td>\n",
       "      <td>0</td>\n",
       "      <td>0</td>\n",
       "      <td>510</td>\n",
       "    </tr>\n",
       "    <tr>\n",
       "      <th>20.0</th>\n",
       "      <td>242</td>\n",
       "      <td>2</td>\n",
       "      <td>0</td>\n",
       "      <td>3</td>\n",
       "      <td>3</td>\n",
       "      <td>5</td>\n",
       "      <td>0</td>\n",
       "      <td>2</td>\n",
       "      <td>0</td>\n",
       "      <td>1</td>\n",
       "      <td>...</td>\n",
       "      <td>1</td>\n",
       "      <td>0</td>\n",
       "      <td>0</td>\n",
       "      <td>0</td>\n",
       "      <td>0</td>\n",
       "      <td>0</td>\n",
       "      <td>0</td>\n",
       "      <td>0</td>\n",
       "      <td>0</td>\n",
       "      <td>330</td>\n",
       "    </tr>\n",
       "    <tr>\n",
       "      <th>All</th>\n",
       "      <td>4313</td>\n",
       "      <td>22</td>\n",
       "      <td>22</td>\n",
       "      <td>25</td>\n",
       "      <td>29</td>\n",
       "      <td>57</td>\n",
       "      <td>49</td>\n",
       "      <td>66</td>\n",
       "      <td>1</td>\n",
       "      <td>46</td>\n",
       "      <td>...</td>\n",
       "      <td>12</td>\n",
       "      <td>8</td>\n",
       "      <td>2</td>\n",
       "      <td>2</td>\n",
       "      <td>2</td>\n",
       "      <td>3</td>\n",
       "      <td>1</td>\n",
       "      <td>1</td>\n",
       "      <td>1</td>\n",
       "      <td>6366</td>\n",
       "    </tr>\n",
       "  </tbody>\n",
       "</table>\n",
       "<p>7 rows × 78 columns</p>\n",
       "</div>"
      ],
      "text/plain": [
       "affairs   0.0  0.0434783  0.0606061  0.0769231  0.1111111  0.1521739  \\\n",
       "educ                                                                   \n",
       "9.0        27          0          1          1          0          1   \n",
       "12.0     1361          7          6         11          3         27   \n",
       "14.0     1469          8         10          7         13         16   \n",
       "16.0      844          2          4          1          7          5   \n",
       "17.0      370          3          1          2          3          3   \n",
       "20.0      242          2          0          3          3          5   \n",
       "All      4313         22         22         25         29         57   \n",
       "\n",
       "affairs  0.1666666  0.2121212  0.2434782  0.2692307  ...  16.7999878  \\\n",
       "educ                                                 ...               \n",
       "9.0              1          1          0          1  ...           0   \n",
       "12.0            23         24          0         16  ...           2   \n",
       "14.0            15         26          0         19  ...           5   \n",
       "16.0             6          9          1          6  ...           1   \n",
       "17.0             4          4          0          3  ...           3   \n",
       "20.0             0          2          0          1  ...           1   \n",
       "All             49         66          1         46  ...          12   \n",
       "\n",
       "affairs  17.9199982  24.0  24.5  25.5999908  26.8799896  38.3999939  \\\n",
       "educ                                                                  \n",
       "9.0               0     0     0           0           0           0   \n",
       "12.0              1     1     0           1           2           0   \n",
       "14.0              3     1     1           1           0           1   \n",
       "16.0              3     0     1           0           0           0   \n",
       "17.0              1     0     0           0           1           0   \n",
       "20.0              0     0     0           0           0           0   \n",
       "All               8     2     2           2           3           1   \n",
       "\n",
       "affairs  39.1999817  57.5999908   All  \n",
       "educ                                   \n",
       "9.0               0           0    48  \n",
       "12.0              0           0  2084  \n",
       "14.0              1           1  2277  \n",
       "16.0              0           0  1117  \n",
       "17.0              0           0   510  \n",
       "20.0              0           0   330  \n",
       "All               1           1  6366  \n",
       "\n",
       "[7 rows x 78 columns]"
      ]
     },
     "execution_count": 18,
     "metadata": {},
     "output_type": "execute_result"
    }
   ],
   "source": [
    "pd.crosstab(df_fair.educ, df_fair.affairs, margins = True)"
   ]
  },
  {
   "cell_type": "code",
   "execution_count": 19,
   "id": "4aa78230",
   "metadata": {},
   "outputs": [],
   "source": [
    "obs = pd.crosstab(df_fair.educ, df_fair.affairs, margins = False)"
   ]
  },
  {
   "cell_type": "code",
   "execution_count": 20,
   "id": "870cdd35",
   "metadata": {},
   "outputs": [
    {
     "data": {
      "text/plain": [
       "(440.8153016311418,\n",
       " 0.016914927997603493,\n",
       " 380,\n",
       " array([[3.25202639e+01, 1.65881244e-01, 1.65881244e-01, 1.88501414e-01,\n",
       "         2.18661640e-01, 4.29783223e-01, 3.69462771e-01, 4.97643732e-01,\n",
       "         7.54005655e-03, 3.46842601e-01, 7.54005655e-03, 1.50801131e-01,\n",
       "         3.16682375e-01, 5.42884072e-01, 1.73421301e-01, 3.99622997e-01,\n",
       "         3.16682375e-01, 6.48444863e-01, 9.04806786e-02, 7.54005655e-03,\n",
       "         5.35344015e-01, 3.39302545e-01, 4.67483506e-01, 1.28180961e-01,\n",
       "         2.41281810e-01, 2.86522149e-01, 5.27803959e-01, 1.73421301e-01,\n",
       "         5.42884072e-01, 2.94062205e-01, 8.89726673e-01, 3.54382658e-01,\n",
       "         1.28180961e-01, 1.80961357e-01, 1.43261074e-01, 4.44863336e-01,\n",
       "         4.75023563e-01, 7.54005655e-02, 3.61922714e-01, 2.03581527e-01,\n",
       "         1.05560792e-01, 3.01602262e-02, 1.05560792e-01, 5.27803959e-02,\n",
       "         2.86522149e-01, 1.20640905e-01, 4.29783223e-01, 8.29406221e-02,\n",
       "         7.54005655e-03, 6.03204524e-02, 2.26201697e-02, 2.33741753e-01,\n",
       "         4.52403393e-01, 4.67483506e-01, 7.54005655e-03, 5.27803959e-02,\n",
       "         3.77002828e-02, 1.50801131e-02, 7.54005655e-03, 1.50801131e-01,\n",
       "         7.54005655e-03, 3.77002828e-02, 7.54005655e-02, 3.84542884e-01,\n",
       "         1.50801131e-02, 4.52403393e-02, 8.29406221e-02, 2.26201697e-02,\n",
       "         9.04806786e-02, 6.03204524e-02, 1.50801131e-02, 1.50801131e-02,\n",
       "         1.50801131e-02, 2.26201697e-02, 7.54005655e-03, 7.54005655e-03,\n",
       "         7.54005655e-03],\n",
       "        [1.41192146e+03, 7.20201068e+00, 7.20201068e+00, 8.18410305e+00,\n",
       "         9.49355954e+00, 1.86597549e+01, 1.60408420e+01, 2.16060320e+01,\n",
       "         3.27364122e-01, 1.50587496e+01, 3.27364122e-01, 6.54728244e+00,\n",
       "         1.37492931e+01, 2.35702168e+01, 7.52937480e+00, 1.73502985e+01,\n",
       "         1.37492931e+01, 2.81533145e+01, 3.92836946e+00, 3.27364122e-01,\n",
       "         2.32428527e+01, 1.47313855e+01, 2.02965756e+01, 5.56519007e+00,\n",
       "         1.04756519e+01, 1.24398366e+01, 2.29154885e+01, 7.52937480e+00,\n",
       "         2.35702168e+01, 1.27672008e+01, 3.86289664e+01, 1.53861137e+01,\n",
       "         5.56519007e+00, 7.85673893e+00, 6.21991832e+00, 1.93144832e+01,\n",
       "         2.06239397e+01, 3.27364122e+00, 1.57134779e+01, 8.83883129e+00,\n",
       "         4.58309771e+00, 1.30945649e+00, 4.58309771e+00, 2.29154885e+00,\n",
       "         1.24398366e+01, 5.23782595e+00, 1.86597549e+01, 3.60100534e+00,\n",
       "         3.27364122e-01, 2.61891298e+00, 9.82092366e-01, 1.01482878e+01,\n",
       "         1.96418473e+01, 2.02965756e+01, 3.27364122e-01, 2.29154885e+00,\n",
       "         1.63682061e+00, 6.54728244e-01, 3.27364122e-01, 6.54728244e+00,\n",
       "         3.27364122e-01, 1.63682061e+00, 3.27364122e+00, 1.66955702e+01,\n",
       "         6.54728244e-01, 1.96418473e+00, 3.60100534e+00, 9.82092366e-01,\n",
       "         3.92836946e+00, 2.61891298e+00, 6.54728244e-01, 6.54728244e-01,\n",
       "         6.54728244e-01, 9.82092366e-01, 3.27364122e-01, 3.27364122e-01,\n",
       "         3.27364122e-01],\n",
       "        [1.54268002e+03, 7.86899152e+00, 7.86899152e+00, 8.94203582e+00,\n",
       "         1.03727615e+01, 2.03878417e+01, 1.75263902e+01, 2.36069746e+01,\n",
       "         3.57681433e-01, 1.64533459e+01, 3.57681433e-01, 7.15362865e+00,\n",
       "         1.50226202e+01, 2.57530631e+01, 8.22667295e+00, 1.89571159e+01,\n",
       "         1.50226202e+01, 3.07606032e+01, 4.29217719e+00, 3.57681433e-01,\n",
       "         2.53953817e+01, 1.60956645e+01, 2.21762488e+01, 6.08058435e+00,\n",
       "         1.14458058e+01, 1.35918944e+01, 2.50377003e+01, 8.22667295e+00,\n",
       "         2.57530631e+01, 1.39495759e+01, 4.22064090e+01, 1.68110273e+01,\n",
       "         6.08058435e+00, 8.58435438e+00, 6.79594722e+00, 2.11032045e+01,\n",
       "         2.25339303e+01, 3.57681433e+00, 1.71687088e+01, 9.65739868e+00,\n",
       "         5.00754006e+00, 1.43072573e+00, 5.00754006e+00, 2.50377003e+00,\n",
       "         1.35918944e+01, 5.72290292e+00, 2.03878417e+01, 3.93449576e+00,\n",
       "         3.57681433e-01, 2.86145146e+00, 1.07304430e+00, 1.10881244e+01,\n",
       "         2.14608860e+01, 2.21762488e+01, 3.57681433e-01, 2.50377003e+00,\n",
       "         1.78840716e+00, 7.15362865e-01, 3.57681433e-01, 7.15362865e+00,\n",
       "         3.57681433e-01, 1.78840716e+00, 3.57681433e+00, 1.82417531e+01,\n",
       "         7.15362865e-01, 2.14608860e+00, 3.93449576e+00, 1.07304430e+00,\n",
       "         4.29217719e+00, 2.86145146e+00, 7.15362865e-01, 7.15362865e-01,\n",
       "         7.15362865e-01, 1.07304430e+00, 3.57681433e-01, 3.57681433e-01,\n",
       "         3.57681433e-01],\n",
       "        [7.56773641e+02, 3.86019478e+00, 3.86019478e+00, 4.38658498e+00,\n",
       "         5.08843858e+00, 1.00014138e+01, 8.59770657e+00, 1.15805844e+01,\n",
       "         1.75463399e-01, 8.07131637e+00, 1.75463399e-01, 3.50926799e+00,\n",
       "         7.36946277e+00, 1.26333648e+01, 4.03565818e+00, 9.29956016e+00,\n",
       "         7.36946277e+00, 1.50898523e+01, 2.10556079e+00, 1.75463399e-01,\n",
       "         1.24579014e+01, 7.89585297e+00, 1.08787308e+01, 2.98287779e+00,\n",
       "         5.61482878e+00, 6.66760917e+00, 1.22824380e+01, 4.03565818e+00,\n",
       "         1.26333648e+01, 6.84307257e+00, 2.07046811e+01, 8.24677977e+00,\n",
       "         2.98287779e+00, 4.21112158e+00, 3.33380459e+00, 1.03523406e+01,\n",
       "         1.10541942e+01, 1.75463399e+00, 8.42224317e+00, 4.73751178e+00,\n",
       "         2.45648759e+00, 7.01853597e-01, 2.45648759e+00, 1.22824380e+00,\n",
       "         6.66760917e+00, 2.80741439e+00, 1.00014138e+01, 1.93009739e+00,\n",
       "         1.75463399e-01, 1.40370719e+00, 5.26390198e-01, 5.43936538e+00,\n",
       "         1.05278040e+01, 1.08787308e+01, 1.75463399e-01, 1.22824380e+00,\n",
       "         8.77316997e-01, 3.50926799e-01, 1.75463399e-01, 3.50926799e+00,\n",
       "         1.75463399e-01, 8.77316997e-01, 1.75463399e+00, 8.94863336e+00,\n",
       "         3.50926799e-01, 1.05278040e+00, 1.93009739e+00, 5.26390198e-01,\n",
       "         2.10556079e+00, 1.40370719e+00, 3.50926799e-01, 3.50926799e-01,\n",
       "         3.50926799e-01, 5.26390198e-01, 1.75463399e-01, 1.75463399e-01,\n",
       "         1.75463399e-01],\n",
       "        [3.45527804e+02, 1.76248822e+00, 1.76248822e+00, 2.00282752e+00,\n",
       "         2.32327992e+00, 4.56644675e+00, 3.92554194e+00, 5.28746466e+00,\n",
       "         8.01131008e-02, 3.68520264e+00, 8.01131008e-02, 1.60226202e+00,\n",
       "         3.36475024e+00, 5.76814326e+00, 1.84260132e+00, 4.24599434e+00,\n",
       "         3.36475024e+00, 6.88972667e+00, 9.61357210e-01, 8.01131008e-02,\n",
       "         5.68803016e+00, 3.60508954e+00, 4.96701225e+00, 1.36192271e+00,\n",
       "         2.56361923e+00, 3.04429783e+00, 5.60791706e+00, 1.84260132e+00,\n",
       "         5.76814326e+00, 3.12441093e+00, 9.45334590e+00, 3.76531574e+00,\n",
       "         1.36192271e+00, 1.92271442e+00, 1.52214892e+00, 4.72667295e+00,\n",
       "         5.04712535e+00, 8.01131008e-01, 3.84542884e+00, 2.16305372e+00,\n",
       "         1.12158341e+00, 3.20452403e-01, 1.12158341e+00, 5.60791706e-01,\n",
       "         3.04429783e+00, 1.28180961e+00, 4.56644675e+00, 8.81244109e-01,\n",
       "         8.01131008e-02, 6.40904807e-01, 2.40339303e-01, 2.48350613e+00,\n",
       "         4.80678605e+00, 4.96701225e+00, 8.01131008e-02, 5.60791706e-01,\n",
       "         4.00565504e-01, 1.60226202e-01, 8.01131008e-02, 1.60226202e+00,\n",
       "         8.01131008e-02, 4.00565504e-01, 8.01131008e-01, 4.08576814e+00,\n",
       "         1.60226202e-01, 4.80678605e-01, 8.81244109e-01, 2.40339303e-01,\n",
       "         9.61357210e-01, 6.40904807e-01, 1.60226202e-01, 1.60226202e-01,\n",
       "         1.60226202e-01, 2.40339303e-01, 8.01131008e-02, 8.01131008e-02,\n",
       "         8.01131008e-02],\n",
       "        [2.23576814e+02, 1.14043355e+00, 1.14043355e+00, 1.29594722e+00,\n",
       "         1.50329877e+00, 2.95475966e+00, 2.54005655e+00, 3.42130066e+00,\n",
       "         5.18378888e-02, 2.38454288e+00, 5.18378888e-02, 1.03675778e+00,\n",
       "         2.17719133e+00, 3.73232799e+00, 1.19227144e+00, 2.74740811e+00,\n",
       "         2.17719133e+00, 4.45805844e+00, 6.22054665e-01, 5.18378888e-02,\n",
       "         3.68049010e+00, 2.33270500e+00, 3.21394910e+00, 8.81244109e-01,\n",
       "         1.65881244e+00, 1.96983977e+00, 3.62865221e+00, 1.19227144e+00,\n",
       "         3.73232799e+00, 2.02167766e+00, 6.11687088e+00, 2.43638077e+00,\n",
       "         8.81244109e-01, 1.24410933e+00, 9.84919887e-01, 3.05843544e+00,\n",
       "         3.26578699e+00, 5.18378888e-01, 2.48821866e+00, 1.39962300e+00,\n",
       "         7.25730443e-01, 2.07351555e-01, 7.25730443e-01, 3.62865221e-01,\n",
       "         1.96983977e+00, 8.29406221e-01, 2.95475966e+00, 5.70216777e-01,\n",
       "         5.18378888e-02, 4.14703110e-01, 1.55513666e-01, 1.60697455e+00,\n",
       "         3.11027333e+00, 3.21394910e+00, 5.18378888e-02, 3.62865221e-01,\n",
       "         2.59189444e-01, 1.03675778e-01, 5.18378888e-02, 1.03675778e+00,\n",
       "         5.18378888e-02, 2.59189444e-01, 5.18378888e-01, 2.64373233e+00,\n",
       "         1.03675778e-01, 3.11027333e-01, 5.70216777e-01, 1.55513666e-01,\n",
       "         6.22054665e-01, 4.14703110e-01, 1.03675778e-01, 1.03675778e-01,\n",
       "         1.03675778e-01, 1.55513666e-01, 5.18378888e-02, 5.18378888e-02,\n",
       "         5.18378888e-02]]))"
      ]
     },
     "execution_count": 20,
     "metadata": {},
     "output_type": "execute_result"
    }
   ],
   "source": [
    "stats.chi2_contingency(observed = obs)"
   ]
  },
  {
   "cell_type": "markdown",
   "id": "4f39e9e1",
   "metadata": {},
   "source": [
    "# Linear Regression Model"
   ]
  },
  {
   "cell_type": "code",
   "execution_count": 21,
   "id": "e4fd4ec6",
   "metadata": {},
   "outputs": [
    {
     "data": {
      "text/plain": [
       "rate_marriage      float64\n",
       "age                float64\n",
       "yrs_married        float64\n",
       "children           float64\n",
       "religious          float64\n",
       "educ               float64\n",
       "occupation         float64\n",
       "occupation_husb    float64\n",
       "affairs            float64\n",
       "dtype: object"
      ]
     },
     "execution_count": 21,
     "metadata": {},
     "output_type": "execute_result"
    }
   ],
   "source": [
    "df_fair.head()\n",
    "df_fair.dtypes"
   ]
  },
  {
   "cell_type": "code",
   "execution_count": 22,
   "id": "b6e7b127",
   "metadata": {},
   "outputs": [
    {
     "data": {
      "text/plain": [
       "array([17., 14., 16., 12., 20.,  9.])"
      ]
     },
     "execution_count": 22,
     "metadata": {},
     "output_type": "execute_result"
    }
   ],
   "source": [
    "df_fair.educ.unique()"
   ]
  },
  {
   "cell_type": "code",
   "execution_count": 23,
   "id": "da0d15e7",
   "metadata": {},
   "outputs": [
    {
     "data": {
      "text/plain": [
       "educ  affairs  \n",
       "14.0  0.000000     1469\n",
       "12.0  0.000000     1361\n",
       "16.0  0.000000      844\n",
       "17.0  0.000000      370\n",
       "20.0  0.000000      242\n",
       "                   ... \n",
       "14.0  57.599991       1\n",
       "      39.199982       1\n",
       "      38.399994       1\n",
       "      25.599991       1\n",
       "20.0  16.799988       1\n",
       "Length: 295, dtype: int64"
      ]
     },
     "execution_count": 23,
     "metadata": {},
     "output_type": "execute_result"
    }
   ],
   "source": [
    "df_fair[[\"educ\",\"affairs\"]].value_counts()"
   ]
  },
  {
   "cell_type": "code",
   "execution_count": 24,
   "id": "4352d698",
   "metadata": {},
   "outputs": [
    {
     "data": {
      "text/plain": [
       "<AxesSubplot:xlabel='educ', ylabel='affairs'>"
      ]
     },
     "execution_count": 24,
     "metadata": {},
     "output_type": "execute_result"
    },
    {
     "data": {
      "image/png": "[encoded data removed]",
      "text/plain": [
       "<Figure size 432x288 with 1 Axes>"
      ]
     },
     "metadata": {
      "needs_background": "light"
     },
     "output_type": "display_data"
    }
   ],
   "source": [
    "df_fair.plot.scatter(x=\"educ\", y=\"affairs\")"
   ]
  },
  {
   "cell_type": "markdown",
   "id": "886ae9af",
   "metadata": {},
   "source": [
    "# Visualization and Descriptive Stats"
   ]
  },
  {
   "cell_type": "markdown",
   "id": "75387671",
   "metadata": {},
   "source": [
    "## Time in affairs histogram"
   ]
  },
  {
   "cell_type": "code",
   "execution_count": 82,
   "id": "fa59bb26",
   "metadata": {},
   "outputs": [
    {
     "data": {
      "text/plain": [
       "<AxesSubplot:ylabel='Frequency'>"
      ]
     },
     "execution_count": 82,
     "metadata": {},
     "output_type": "execute_result"
    },
    {
     "data": {
      "image/png": "[encoded data removed]",
      "text/plain": [
       "<Figure size 432x288 with 1 Axes>"
      ]
     },
     "metadata": {
      "needs_background": "light"
     },
     "output_type": "display_data"
    }
   ],
   "source": [
    "df_fair[[\"children\", \"affairs\"]].plot.hist(bins=20, alpha=0.5)"
   ]
  },
  {
   "cell_type": "code",
   "execution_count": 83,
   "id": "637b9ec4",
   "metadata": {},
   "outputs": [
    {
     "data": {
      "text/plain": [
       "<AxesSubplot:ylabel='Frequency'>"
      ]
     },
     "execution_count": 83,
     "metadata": {},
     "output_type": "execute_result"
    },
    {
     "data": {
      "image/png": "[encoded data removed]",
      "text/plain": [
       "<Figure size 432x288 with 1 Axes>"
      ]
     },
     "metadata": {
      "needs_background": "light"
     },
     "output_type": "display_data"
    }
   ],
   "source": [
    "df_fair[[\"children\", \"affairs\"]].plot.hist(bins=20, alpha=1)"
   ]
  },
  {
   "cell_type": "code",
   "execution_count": 72,
   "id": "c12356bf",
   "metadata": {},
   "outputs": [
    {
     "data": {
      "text/plain": [
       "<AxesSubplot:ylabel='Frequency'>"
      ]
     },
     "execution_count": 72,
     "metadata": {},
     "output_type": "execute_result"
    },
    {
     "data": {
      "image/png": "[encoded data removed]",
      "text/plain": [
       "<Figure size 432x288 with 1 Axes>"
      ]
     },
     "metadata": {
      "needs_background": "light"
     },
     "output_type": "display_data"
    }
   ],
   "source": [
    "df_fair[[\"yrs_married\", \"affairs\"]].plot.hist(bins=20, alpha=0.5)"
   ]
  },
  {
   "cell_type": "code",
   "execution_count": 73,
   "id": "9b109e9b",
   "metadata": {},
   "outputs": [
    {
     "data": {
      "text/plain": [
       "<AxesSubplot:ylabel='Frequency'>"
      ]
     },
     "execution_count": 73,
     "metadata": {},
     "output_type": "execute_result"
    },
    {
     "data": {
      "image/png": "[encoded data removed]",
      "text/plain": [
       "<Figure size 432x288 with 1 Axes>"
      ]
     },
     "metadata": {
      "needs_background": "light"
     },
     "output_type": "display_data"
    }
   ],
   "source": [
    "df_fair[[\"yrs_married\", \"affairs\"]].plot.hist(bins=20, alpha=1)"
   ]
  },
  {
   "cell_type": "code",
   "execution_count": 30,
   "id": "973d88ae",
   "metadata": {},
   "outputs": [
    {
     "data": {
      "image/png": "[encoded data removed]",
      "text/plain": [
       "<Figure size 432x288 with 1 Axes>"
      ]
     },
     "metadata": {
      "needs_background": "light"
     },
     "output_type": "display_data"
    }
   ],
   "source": [
    "fig = plt.figure()\n",
    "res = stats.probplot(df_fair[\"affairs\"], plot=plt)"
   ]
  },
  {
   "cell_type": "markdown",
   "id": "89fdc663",
   "metadata": {},
   "source": [
    "## Rate marriage histogram"
   ]
  },
  {
   "cell_type": "code",
   "execution_count": 70,
   "id": "13a50893",
   "metadata": {},
   "outputs": [
    {
     "data": {
      "text/plain": [
       "<BarContainer object of 6 artists>"
      ]
     },
     "execution_count": 70,
     "metadata": {},
     "output_type": "execute_result"
    },
    {
     "data": {
      "image/png": "[encoded data removed]",
      "text/plain": [
       "<Figure size 432x288 with 1 Axes>"
      ]
     },
     "metadata": {
      "needs_background": "light"
     },
     "output_type": "display_data"
    }
   ],
   "source": [
    "analyzeaffair = df_fair.groupby(['educ'])['rate_marriage'].mean()\n",
    "plt.bar(analyzeaffair.index, analyzeaffair)"
   ]
  },
  {
   "cell_type": "code",
   "execution_count": 71,
   "id": "cd1a7671",
   "metadata": {},
   "outputs": [
    {
     "data": {
      "text/plain": [
       "<BarContainer object of 6 artists>"
      ]
     },
     "execution_count": 71,
     "metadata": {},
     "output_type": "execute_result"
    },
    {
     "data": {
      "image/png": "[encoded data removed]",
      "text/plain": [
       "<Figure size 432x288 with 1 Axes>"
      ]
     },
     "metadata": {
      "needs_background": "light"
     },
     "output_type": "display_data"
    }
   ],
   "source": [
    "analyzeaffair = df_fair.groupby(['educ'])['rate_marriage'].mean()\n",
    "plt.barh(analyzeaffair.index, analyzeaffair)"
   ]
  },
  {
   "cell_type": "code",
   "execution_count": 79,
   "id": "757db0e4",
   "metadata": {},
   "outputs": [
    {
     "data": {
      "text/plain": [
       "<BarContainer object of 6 artists>"
      ]
     },
     "execution_count": 79,
     "metadata": {},
     "output_type": "execute_result"
    },
    {
     "data": {
      "image/png": "[encoded data removed]",
      "text/plain": [
       "<Figure size 432x288 with 1 Axes>"
      ]
     },
     "metadata": {
      "needs_background": "light"
     },
     "output_type": "display_data"
    }
   ],
   "source": [
    "analyzeaffair = df_fair.groupby(['children'])['rate_marriage'].mean()\n",
    "plt.bar(analyzeaffair.index, analyzeaffair)"
   ]
  },
  {
   "cell_type": "code",
   "execution_count": 80,
   "id": "d303c8df",
   "metadata": {},
   "outputs": [
    {
     "data": {
      "text/plain": [
       "<BarContainer object of 6 artists>"
      ]
     },
     "execution_count": 80,
     "metadata": {},
     "output_type": "execute_result"
    },
    {
     "data": {
      "image/png": "[encoded data removed]",
      "text/plain": [
       "<Figure size 432x288 with 1 Axes>"
      ]
     },
     "metadata": {
      "needs_background": "light"
     },
     "output_type": "display_data"
    }
   ],
   "source": [
    "analyzeaffair = df_fair.groupby(['children'])['rate_marriage'].mean()\n",
    "plt.barh(analyzeaffair.index, analyzeaffair)"
   ]
  },
  {
   "cell_type": "code",
   "execution_count": 81,
   "id": "208f8bb4",
   "metadata": {},
   "outputs": [
    {
     "data": {
      "image/png": "[encoded data removed]",
      "text/plain": [
       "<Figure size 432x288 with 1 Axes>"
      ]
     },
     "metadata": {
      "needs_background": "light"
     },
     "output_type": "display_data"
    }
   ],
   "source": [
    "analyzeaffair1 = df_fair.groupby(['rate_marriage'])['children'].mean()\n",
    "analyzeaffair2 = df_fair.groupby(['rate_marriage'])['yrs_married'].mean()\n",
    "ind = np.arange(analyzeaffair1.shape[0])    \n",
    "width = 0.8    \n",
    "\n",
    "p1 = plt.bar(ind, analyzeaffair1, width)\n",
    "p2 = plt.bar(ind+ width, analyzeaffair2, width)\n",
    "\n",
    "\n",
    "plt.xlabel('Marriage Rating')\n",
    "plt.ylabel('Frequency')\n",
    "plt.title('children vs years married for Marriage rating')\n",
    "plt.xticks(ind, analyzeaffair2.index)\n",
    "plt.legend((p1[0], p2[0]), ('children', 'Years married'))\n",
    "\n",
    "plt.show()"
   ]
  },
  {
   "cell_type": "markdown",
   "id": "d2c5803a",
   "metadata": {},
   "source": [
    "# Answers to Question\n"
   ]
  },
  {
   "cell_type": "markdown",
   "id": "d75e1cc9",
   "metadata": {},
   "source": [
    "The variables chosen to be compared were children and years married to time in affairs (\"affairs\") and marriage rating (rate_marriage). In the time of affairs, the histogram showed that the years married as well as the children and the time in affairs overlapped at around 0-2.5, showing that there is some correlation along with a high frequency there. With children vs. years married for marriage rating, the histogram showed that the children and years married had an effect. The frequency of the amount of children decreased with the marriage rating along with the years married."
   ]
  }
 ],
 "metadata": {
  "kernelspec": {
   "display_name": "Python 3 (ipykernel)",
   "language": "python",
   "name": "python3"
  },
  "language_info": {
   "codemirror_mode": {
    "name": "ipython",
    "version": 3
   },
   "file_extension": ".py",
   "mimetype": "text/x-python",
   "name": "python",
   "nbconvert_exporter": "python",
   "pygments_lexer": "ipython3",
   "version": "3.9.7"
  }
 },
 "nbformat": 4,
 "nbformat_minor": 5
}
